{
 "cells": [
  {
   "cell_type": "markdown",
   "metadata": {},
   "source": [
    "# ¿Qué es una API?\n",
    "> **I**nterfaz de **P**rogramación de **A**plicaciones\n",
    "\n",
    "Una Aplication Programming Interface define un conjunto de reglas y capacidades para que dos sistemas se comuniquen entre sí.\n",
    "\n",
    "* Por medio de una API, los sistemas pueden interactuar entre sí para intercambiar o manipular datos.\n",
    "\n",
    "Un usuario rara vez interactua con una API, normalmente utiliza una interfaz de usuario para interactuar con aplicaciones de software.\n",
    "\n",
    "De cierta manera, todos los sistemas informaticos están construidos con API y las usamos todo el tiempo sin saberlo."
   ]
  },
  {
   "cell_type": "markdown",
   "metadata": {},
   "source": [
    "## Web APIs, clients and servers\n",
    "LAs APIs web se utilizan para permitir la comunicación entre dos aplicaciones de software a travéz de una red o de internet utilizando el protocolo HTTP, mismo protocolo que el navegador.\n",
    "Lo anterior, significa que un cliente envía un mensaje **(request)** a travéz de internet a un servidor; el servidor responde **(response)** enviando un mensaje al cliente."
   ]
  },
  {
   "cell_type": "markdown",
   "metadata": {},
   "source": [
    "### Types of Web APIs\n",
    "Son 3 los tipos más comunes de APIs web:\n",
    "* SOAP --> enfoque formal y se utiliza con mayor frecuencia en aplicaciones empresariales donde se requiere mayor robustez y protocolos estrictos.\n",
    "* REST --> Más popular y común por su simplicidad, escalabilidad y facilidad de integración.\n",
    "* GraphQL --> Más sofisticado, preciso y co recuperación de datos flexible, minimizando la transferencia de datos y optimizando el rendimiento.\n",
    "\n",
    "Esta guía abarca el tipo de API REST por ser el más común."
   ]
  },
  {
   "cell_type": "markdown",
   "metadata": {},
   "source": [
    "## Working with APIs in Python\n",
    "Las bibliotecas más conocidas de Python, que integran API web, son: **urllib** y **requests**.\n",
    "\n",
    "**urllib** viene incluida en Python y es muy poderosa, pero eso le quita simplicidad de uso:"
   ]
  },
  {
   "cell_type": "code",
   "execution_count": null,
   "metadata": {},
   "outputs": [],
   "source": [
    "from urllib.request import urlopen\n",
    "api = \"http://api.music-catalog.com/\"\n",
    "\n",
    "with urlopen(api) as response:\n",
    "    for line in response:\n",
    "        data = response.read()\n",
    "        string = data.decode()\n",
    "        print(string)"
   ]
  },
  {
   "cell_type": "markdown",
   "metadata": {},
   "source": [
    "En el código anterior estamos haciendo una solicitud a la API web del catálogo de música para obtener una lista de álbumes de música. Para imprimir los datos que solicitamos, primero debemos usar la función urlopen para enviar una solicitud, luego usamos la función \"read()\" en el objeto response para obtener los datos de la respuesta. Despues de eso, llamamos a la función \"decode()\" en los datos de la respuesta para extraer los datos sin procesar. Finalmente podemos imprimir los datos que recibimos de la API.\n",
    "\n",
    "Afortunadamente el paquete **requests** simplifica mucho las cosas:\n",
    "* Ofrece funciones integradas para las cuales urllib necesita pasos o paquetes adicionales.\n",
    "* Es más fácil de usar."
   ]
  },
  {
   "cell_type": "code",
   "execution_count": null,
   "metadata": {},
   "outputs": [],
   "source": [
    "%pip install requests"
   ]
  },
  {
   "cell_type": "code",
   "execution_count": 5,
   "metadata": {},
   "outputs": [
    {
     "name": "stdout",
     "output_type": "stream",
     "text": [
      "<html>\n",
      "<head><title>403 Forbidden</title></head>\n",
      "<body>\n",
      "<center><h1>403 Forbidden</h1></center>\n",
      "<hr><center>nginx</center>\n",
      "</body>\n",
      "</html>\n",
      "\n"
     ]
    }
   ],
   "source": [
    "import requests\n",
    "api = \"http://api.music-catalog.com/\"\n",
    "\n",
    "response = requests.get(api)\n",
    "print(response.text)"
   ]
  },
  {
   "cell_type": "markdown",
   "metadata": {},
   "source": [
    "En el código anterior, se obtiene el mismo resultado en menos lineas de código usando la función \"requests.get()\". Requests se encarga de leer y decodificar la respuesta. Lo único que debemos hacer es imprimir el atributo de texto del objeto de respuesta."
   ]
  }
 ],
 "metadata": {
  "kernelspec": {
   "display_name": "api_python_venv",
   "language": "python",
   "name": "python3"
  },
  "language_info": {
   "codemirror_mode": {
    "name": "ipython",
    "version": 3
   },
   "file_extension": ".py",
   "mimetype": "text/x-python",
   "name": "python",
   "nbconvert_exporter": "python",
   "pygments_lexer": "ipython3",
   "version": "3.12.1"
  }
 },
 "nbformat": 4,
 "nbformat_minor": 2
}
